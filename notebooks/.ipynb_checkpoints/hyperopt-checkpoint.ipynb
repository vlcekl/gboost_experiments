{
 "cells": [
  {
   "cell_type": "markdown",
   "metadata": {},
   "source": [
    "# Distributed Asynchronous Hyper-parameter Optimization with NGBoost\n",
    "\n",
    "## Notes on Hyperopt\n",
    "\n",
    "Hyperopt will allow us to intelligently narrow our search space over traditional methods like grid search in sklearn and thus save runtime when tuning our NGBoost model.\n",
    "\n",
    "Original Article:\n",
    "\n",
    "*Bergstra, J., Yamins, D., Cox, D. D. (2013) Making a Science of Model Search: Hyperparameter Optimization in Hundreds of Dimensions for Vision Architectures. To appear in Proc. of the 30th International Conference on Machine Learning (ICML 2013).*\n",
    "\n",
    "For install instructions and more information on how Hyperopt works click [here](http://hyperopt.github.io/hyperopt/)\n"
   ]
  },
  {
   "cell_type": "markdown",
   "metadata": {},
   "source": [
    "## Import Dependencies"
   ]
  },
  {
   "cell_type": "code",
   "execution_count": 1,
   "metadata": {},
   "outputs": [
    {
     "name": "stderr",
     "output_type": "stream",
     "text": [
      "/home/lukas/anaconda3/envs/stats/lib/python3.6/site-packages/statsmodels/tools/_testing.py:19: FutureWarning: pandas.util.testing is deprecated. Use the functions in the public API at pandas.testing instead.\n",
      "  import pandas.util.testing as tm\n"
     ]
    }
   ],
   "source": [
    "from sklearn.datasets import load_boston\n",
    "from sklearn.model_selection import train_test_split\n",
    "from sklearn.metrics import mean_squared_error\n",
    "from ngboost.ngboost import NGBoost\n",
    "from ngboost.learners import default_tree_learner\n",
    "from ngboost.distns import Normal\n",
    "from ngboost.scores import MLE\n",
    "from ngboost import NGBRegressor\n",
    "from sklearn.tree import DecisionTreeRegressor\n",
    "from sklearn.metrics import median_absolute_error, mean_absolute_error, mean_squared_error\n",
    "from hyperopt import hp, tpe, space_eval\n",
    "from hyperopt.pyll.base import scope\n",
    "from hyperopt.fmin import fmin\n",
    "from hyperopt import STATUS_OK, Trials\n",
    "import pandas as pd\n",
    "import seaborn as sns\n",
    "import matplotlib.pyplot as plt\n",
    "import warnings\n",
    "import logging"
   ]
  },
  {
   "cell_type": "markdown",
   "metadata": {},
   "source": [
    "## Setup basic logging"
   ]
  },
  {
   "cell_type": "code",
   "execution_count": 2,
   "metadata": {},
   "outputs": [],
   "source": [
    "logging.basicConfig(\n",
    "    # filename = \"errors.log\",\n",
    "    format='%(asctime)s %(levelname)-8s %(message)s',\n",
    "    level=logging.INFO,\n",
    "    datefmt='%Y-%m-%d %H:%M:%S')\n",
    "logger = logging.getLogger()"
   ]
  },
  {
   "cell_type": "markdown",
   "metadata": {},
   "source": [
    "## Load the Boston Housing Dataset\n",
    "\n",
    "For this example we will be splitting the dataset into train/test/validation sets"
   ]
  },
  {
   "cell_type": "code",
   "execution_count": 3,
   "metadata": {},
   "outputs": [
    {
     "name": "stdout",
     "output_type": "stream",
     "text": [
      "train: 0.6% | validation: 0.2% | test 0.2%\n"
     ]
    }
   ],
   "source": [
    "b4 = DecisionTreeRegressor(criterion='friedman_mse', max_depth=6)\n",
    "b4 = DecisionTreeRegressor(criterion='friedman_mse', max_depth=6)\n",
    "b4 = DecisionTreeRegressor(criterion='friedman_mse', max_depth=6)\n",
    "boston = load_boston()\n",
    "data = boston.data\n",
    "target = boston.target\n",
    "\n",
    "X_intermediate, X_test, y_intermediate, y_test = train_test_split(data, \n",
    "                                                                  target, \n",
    "                                                                  shuffle=True,\n",
    "                                                                  test_size=0.2, \n",
    "                                                                  random_state=1)\n",
    "\n",
    "# train/validation split (gives us train and validation sets)\n",
    "X_train, X_validation, y_train, y_validation = train_test_split(X_intermediate,\n",
    "                                                                y_intermediate,\n",
    "                                                                shuffle=False,\n",
    "                                                                test_size=0.25,\n",
    "                                                                random_state=1)\n",
    "\n",
    "# delete intermediate variables\n",
    "del X_intermediate, y_intermediate\n",
    "\n",
    "# print proportions\n",
    "print('train: {}% | validation: {}% | test {}%'.format(round(len(y_train)/len(target),2),\n",
    "                                                       round(len(y_validation)/len(target),2),\n",
    "                                                       round(len(y_test)/len(target),2)))"
   ]
  },
  {
   "cell_type": "code",
   "execution_count": 27,
   "metadata": {},
   "outputs": [
    {
     "data": {
      "text/plain": [
       "(303, 101, 102)"
      ]
     },
     "execution_count": 27,
     "metadata": {},
     "output_type": "execute_result"
    }
   ],
   "source": [
    "len(X_train), len(X_validation), len(X_test)"
   ]
  },
  {
   "cell_type": "markdown",
   "metadata": {},
   "source": [
    "## Setup the Hyper-Parameters to test\n",
    "\n",
    "Note:\n",
    "- hp.choice selects from the provided list\n",
    "- hp.uniform will iterate at random over the range provided like .05 to 1"
   ]
  },
  {
   "cell_type": "code",
   "execution_count": 96,
   "metadata": {},
   "outputs": [],
   "source": [
    "b1 = DecisionTreeRegressor(criterion='friedman_mse', max_depth=2)\n",
    "b2 = DecisionTreeRegressor(criterion='friedman_mse', max_depth=3)\n",
    "b3 = DecisionTreeRegressor(criterion='friedman_mse', max_depth=4)\n",
    "b4 = DecisionTreeRegressor(criterion='friedman_mse', max_depth=5)\n",
    "b5 = DecisionTreeRegressor(criterion='friedman_mse', max_depth=6)\n",
    "b6 = DecisionTreeRegressor(criterion='friedman_mse', max_depth=7)\n",
    "b7 = DecisionTreeRegressor(criterion='friedman_mse', max_depth=8)\n",
    "\n",
    "space = {\n",
    "    'learning_rate':hp.uniform('learning_rate', .01, 0.3),\n",
    "    #'minibatch_frac':hp.choice('minibatch_frac', [1.0, 0.9, 0.8, 0.75, 0.7, 0.6]),\n",
    "    'minibatch_frac':hp.uniform('minibatch_frac', 0.6, 1.0),\n",
    "    'Base':hp.choice('Base', [b1, b2, b3, b4, b5, b6, b7]),\n",
    "    'n_estimators':hp.randint('n_estimators', 40, 70)\n",
    "    #'n_estimators':hp.choice('n_estimators', [40, 50, 60, 70])\n",
    "}\n",
    "\n",
    "default_params = {\"verbose_eval\":0,\n",
    "                  \"random_state\":1}"
   ]
  },
  {
   "cell_type": "markdown",
   "metadata": {},
   "source": [
    "## Setup the model to be tested and log the loss for each test\n",
    "\n",
    "Note: This example uses early stopping\n",
    "\n",
    "This objective will log the loss of the best iteration among each pass (n_estimators) using best_val_loss_itr from the NGBRegressor object"
   ]
  },
  {
   "cell_type": "code",
   "execution_count": 97,
   "metadata": {},
   "outputs": [],
   "source": [
    "def objective(params):\n",
    "    \n",
    "    params.update(default_params)\n",
    "    \n",
    "    print(params)\n",
    "    ngb = NGBRegressor(**params).fit(X_train,y_train,X_val=X_validation, Y_val=y_validation, early_stopping_rounds=4)\n",
    "    loss = ngb.evals_result['val']['LOGSCORE'][ngb.best_val_loss_itr]\n",
    "    logger.info(params)\n",
    "    results = {'loss':loss, 'status':STATUS_OK}\n",
    "    \n",
    "    return results"
   ]
  },
  {
   "cell_type": "markdown",
   "metadata": {},
   "source": [
    "## Run tuning\n",
    "\n",
    "We can modify max_evals here to adjust how many differnt sets of hyper-parameters we want to test"
   ]
  },
  {
   "cell_type": "code",
   "execution_count": 110,
   "metadata": {},
   "outputs": [
    {
     "name": "stderr",
     "output_type": "stream",
     "text": [
      "2020-12-28 22:55:36 INFO     Start parameter optimization...\n"
     ]
    },
    {
     "ename": "NameError",
     "evalue": "name 'atpe' is not defined",
     "output_type": "error",
     "traceback": [
      "\u001b[0;31m---------------------------------------------------------------------------\u001b[0m",
      "\u001b[0;31mNameError\u001b[0m                                 Traceback (most recent call last)",
      "\u001b[0;32m<ipython-input-110-a17b7f95278c>\u001b[0m in \u001b[0;36m<module>\u001b[0;34m\u001b[0m\n\u001b[1;32m      6\u001b[0m     best = fmin(fn=objective,\n\u001b[1;32m      7\u001b[0m                 \u001b[0mspace\u001b[0m\u001b[0;34m=\u001b[0m\u001b[0mspace\u001b[0m\u001b[0;34m,\u001b[0m\u001b[0;34m\u001b[0m\u001b[0;34m\u001b[0m\u001b[0m\n\u001b[0;32m----> 8\u001b[0;31m                 \u001b[0malgo\u001b[0m\u001b[0;34m=\u001b[0m\u001b[0matpe\u001b[0m\u001b[0;34m.\u001b[0m\u001b[0msuggest\u001b[0m\u001b[0;34m,\u001b[0m\u001b[0;34m\u001b[0m\u001b[0;34m\u001b[0m\u001b[0m\n\u001b[0m\u001b[1;32m      9\u001b[0m                 \u001b[0mmax_evals\u001b[0m\u001b[0;34m=\u001b[0m\u001b[0;36m500\u001b[0m\u001b[0;34m,\u001b[0m\u001b[0;34m\u001b[0m\u001b[0;34m\u001b[0m\u001b[0m\n\u001b[1;32m     10\u001b[0m                 \u001b[0mtrials\u001b[0m\u001b[0;34m=\u001b[0m\u001b[0mTRIALS\u001b[0m\u001b[0;34m,\u001b[0m\u001b[0;34m\u001b[0m\u001b[0;34m\u001b[0m\u001b[0m\n",
      "\u001b[0;31mNameError\u001b[0m: name 'atpe' is not defined"
     ]
    }
   ],
   "source": [
    "TRIALS = Trials()\n",
    "logger.info(\"Start parameter optimization...\")\n",
    "\n",
    "with warnings.catch_warnings():\n",
    "    warnings.simplefilter(\"ignore\")\n",
    "    best = fmin(fn=objective,\n",
    "                space=space,\n",
    "                algo=tpe.suggest,\n",
    "                max_evals=500,\n",
    "                trials=TRIALS,\n",
    "                verbose=False)\n",
    "logger.info(\"...done\")"
   ]
  },
  {
   "cell_type": "markdown",
   "metadata": {},
   "source": [
    "## Display the best run (based on validation loss)"
   ]
  },
  {
   "cell_type": "code",
   "execution_count": 99,
   "metadata": {},
   "outputs": [],
   "source": [
    "best_params = space_eval(space, best)"
   ]
  },
  {
   "cell_type": "code",
   "execution_count": 100,
   "metadata": {},
   "outputs": [
    {
     "data": {
      "text/plain": [
       "{'Base': DecisionTreeRegressor(criterion='friedman_mse', max_depth=4),\n",
       " 'learning_rate': 0.09006134800189139,\n",
       " 'minibatch_frac': 0.7932808563674009,\n",
       " 'n_estimators': 63}"
      ]
     },
     "execution_count": 100,
     "metadata": {},
     "output_type": "execute_result"
    }
   ],
   "source": [
    "best_params"
   ]
  },
  {
   "cell_type": "code",
   "execution_count": 71,
   "metadata": {},
   "outputs": [
    {
     "data": {
      "text/plain": [
       "{'Base': DecisionTreeRegressor(criterion='friedman_mse', max_depth=5),\n",
       " 'learning_rate': 0.07877293560447671,\n",
       " 'minibatch_frac': 0.75,\n",
       " 'n_estimators': 40}"
      ]
     },
     "execution_count": 71,
     "metadata": {},
     "output_type": "execute_result"
    }
   ],
   "source": [
    "best_params"
   ]
  },
  {
   "cell_type": "code",
   "execution_count": 56,
   "metadata": {},
   "outputs": [
    {
     "data": {
      "text/plain": [
       "{'Base': DecisionTreeRegressor(criterion='friedman_mse', max_depth=6),\n",
       " 'learning_rate': 0.1061942383118504,\n",
       " 'minibatch_frac': 0.75,\n",
       " 'n_estimators': 60}"
      ]
     },
     "execution_count": 56,
     "metadata": {},
     "output_type": "execute_result"
    }
   ],
   "source": [
    "best_params"
   ]
  },
  {
   "cell_type": "markdown",
   "metadata": {},
   "source": [
    "## Plot loss wrt a specific parameter"
   ]
  },
  {
   "cell_type": "code",
   "execution_count": 101,
   "metadata": {},
   "outputs": [],
   "source": [
    "def loss_plot(ft, trials):\n",
    "\n",
    "    print(\"Loss plot for parameter {}\".format(ft))\n",
    "    \n",
    "    _loss = list()\n",
    "    _ft = list()\n",
    "    \n",
    "    for t in trials.trials:\n",
    "        try:\n",
    "            if len(t['misc']['vals'][ft]) > 0:\n",
    "                _ft.append(t['misc']['vals'][ft][0])\n",
    "                _loss.append(t['result']['loss'])\n",
    "        except:\n",
    "            pass\n",
    "        \n",
    "    data = pd.DataFrame([_loss, _ft]).T\n",
    "    data.columns=['loss', ft]\n",
    "        \n",
    "    sns.lineplot(y='loss', x=ft, data=data)"
   ]
  },
  {
   "cell_type": "markdown",
   "metadata": {},
   "source": [
    "You can replace learning_rate below with any parameter you might be interested in from the space of parameters "
   ]
  },
  {
   "cell_type": "code",
   "execution_count": 102,
   "metadata": {},
   "outputs": [
    {
     "name": "stdout",
     "output_type": "stream",
     "text": [
      "Loss plot for parameter learning_rate\n"
     ]
    },
    {
     "data": {
      "image/png": "[encoded data removed]",
      "text/plain": [
       "<Figure size 432x288 with 1 Axes>"
      ]
     },
     "metadata": {
      "needs_background": "light"
     },
     "output_type": "display_data"
    }
   ],
   "source": [
    "loss_plot('learning_rate', TRIALS)"
   ]
  },
  {
   "cell_type": "code",
   "execution_count": 103,
   "metadata": {},
   "outputs": [
    {
     "name": "stdout",
     "output_type": "stream",
     "text": [
      "Loss plot for parameter minibatch_frac\n"
     ]
    },
    {
     "data": {
      "image/png": "[encoded data removed]",
      "text/plain": [
       "<Figure size 432x288 with 1 Axes>"
      ]
     },
     "metadata": {
      "needs_background": "light"
     },
     "output_type": "display_data"
    }
   ],
   "source": [
    "loss_plot('minibatch_frac', TRIALS)"
   ]
  },
  {
   "cell_type": "code",
   "execution_count": 104,
   "metadata": {},
   "outputs": [
    {
     "name": "stdout",
     "output_type": "stream",
     "text": [
      "Loss plot for parameter Base\n"
     ]
    },
    {
     "data": {
      "image/png": "[encoded data removed]",
      "text/plain": [
       "<Figure size 432x288 with 1 Axes>"
      ]
     },
     "metadata": {
      "needs_background": "light"
     },
     "output_type": "display_data"
    }
   ],
   "source": [
    "loss_plot('Base', TRIALS)"
   ]
  },
  {
   "cell_type": "code",
   "execution_count": 105,
   "metadata": {},
   "outputs": [
    {
     "name": "stdout",
     "output_type": "stream",
     "text": [
      "Loss plot for parameter n_estimators\n"
     ]
    },
    {
     "data": {
      "image/png": "[encoded data removed]",
      "text/plain": [
       "<Figure size 432x288 with 1 Axes>"
      ]
     },
     "metadata": {
      "needs_background": "light"
     },
     "output_type": "display_data"
    }
   ],
   "source": [
    "loss_plot('n_estimators', TRIALS)"
   ]
  },
  {
   "cell_type": "markdown",
   "metadata": {},
   "source": [
    "## Train a final model\n",
    "Increasing the number of boosters by increasing n_estimators"
   ]
  },
  {
   "cell_type": "code",
   "execution_count": 106,
   "metadata": {},
   "outputs": [
    {
     "name": "stdout",
     "output_type": "stream",
     "text": [
      "[iter 0] loss=3.5800 val_loss=3.5006 scale=1.0000 norm=6.5910\n",
      "[iter 1] loss=3.4506 val_loss=3.3421 scale=2.0000 norm=12.1475\n",
      "[iter 2] loss=3.3092 val_loss=3.2464 scale=2.0000 norm=10.6842\n",
      "[iter 3] loss=3.1966 val_loss=3.1655 scale=2.0000 norm=8.8964\n",
      "[iter 4] loss=3.0951 val_loss=3.0945 scale=2.0000 norm=7.4880\n",
      "[iter 5] loss=3.0193 val_loss=3.0184 scale=2.0000 norm=6.8308\n",
      "[iter 6] loss=2.9482 val_loss=2.9442 scale=2.0000 norm=6.1053\n",
      "[iter 7] loss=2.8594 val_loss=2.8706 scale=2.0000 norm=5.3363\n",
      "[iter 8] loss=2.7931 val_loss=2.8095 scale=2.0000 norm=5.0965\n",
      "[iter 9] loss=2.7081 val_loss=2.7501 scale=2.0000 norm=4.3693\n",
      "[iter 10] loss=2.6426 val_loss=2.6967 scale=2.0000 norm=4.1984\n",
      "[iter 11] loss=2.5639 val_loss=2.6455 scale=2.0000 norm=3.9183\n",
      "[iter 12] loss=2.5058 val_loss=2.6033 scale=2.0000 norm=3.6516\n",
      "[iter 13] loss=2.4223 val_loss=2.5645 scale=2.0000 norm=3.3981\n",
      "[iter 14] loss=2.3669 val_loss=2.5312 scale=2.0000 norm=3.2151\n",
      "[iter 15] loss=2.3011 val_loss=2.5086 scale=2.0000 norm=3.1598\n",
      "[iter 16] loss=2.2430 val_loss=2.4864 scale=2.0000 norm=3.0606\n",
      "[iter 17] loss=2.1804 val_loss=2.4793 scale=2.0000 norm=2.9517\n",
      "[iter 18] loss=2.1176 val_loss=2.4746 scale=2.0000 norm=2.8186\n",
      "[iter 19] loss=2.0705 val_loss=2.4760 scale=2.0000 norm=2.7368\n",
      "[iter 20] loss=2.0068 val_loss=2.4923 scale=2.0000 norm=2.6039\n",
      "[iter 21] loss=1.9470 val_loss=2.5259 scale=2.0000 norm=2.5115\n",
      "[iter 22] loss=1.8841 val_loss=2.5771 scale=2.0000 norm=2.3793\n",
      "[iter 23] loss=1.8432 val_loss=2.6289 scale=2.0000 norm=2.3708\n",
      "[iter 24] loss=1.7736 val_loss=2.6810 scale=2.0000 norm=2.2370\n",
      "[iter 25] loss=1.7119 val_loss=2.7515 scale=2.0000 norm=2.1126\n",
      "[iter 26] loss=1.6956 val_loss=2.7757 scale=2.0000 norm=2.2047\n",
      "[iter 27] loss=1.6433 val_loss=2.8963 scale=2.0000 norm=2.1160\n",
      "== Early stopping achieved.\n",
      "== Best iteration / VAL18 (val_loss=2.4746)\n"
     ]
    }
   ],
   "source": [
    "\n",
    "default_params = {\"n_estimators\":500,\n",
    "                  \"verbose_eval\":1,\n",
    "                  \"random_state\":1}\n",
    "\n",
    "best_params.update(default_params)\n",
    "\n",
    "ngb = NGBRegressor(**best_params).fit(X_train,y_train,X_val=X_validation, Y_val=y_validation, early_stopping_rounds=10)"
   ]
  },
  {
   "cell_type": "code",
   "execution_count": 107,
   "metadata": {},
   "outputs": [
    {
     "data": {
      "text/plain": [
       "{'train': {'LOGSCORE': [3.580016268129038,\n",
       "   3.4506080615024737,\n",
       "   3.3091989718325086,\n",
       "   3.196641224992343,\n",
       "   3.095083823225572,\n",
       "   3.0192542476290067,\n",
       "   2.948223500217827,\n",
       "   2.8594205064139104,\n",
       "   2.7931232380923197,\n",
       "   2.7081274969623066,\n",
       "   2.6425693710447624,\n",
       "   2.5638711187525636,\n",
       "   2.505786492152124,\n",
       "   2.422323286068131,\n",
       "   2.3668544638299207,\n",
       "   2.3010946804472336,\n",
       "   2.2430497852119355,\n",
       "   2.180364525562164,\n",
       "   2.117574604594504,\n",
       "   2.070477155017145,\n",
       "   2.0067876635908357,\n",
       "   1.9470018148633197,\n",
       "   1.884088093109756,\n",
       "   1.8431887746298998,\n",
       "   1.773560011987081,\n",
       "   1.711860218470466,\n",
       "   1.6955895992351135,\n",
       "   1.6433460940556155,\n",
       "   1.6003543853372573]},\n",
       " 'val': {'LOGSCORE': [3.500557117856505,\n",
       "   3.3421463201392094,\n",
       "   3.2464220289619696,\n",
       "   3.1655065702251077,\n",
       "   3.094456977978006,\n",
       "   3.0184433453285795,\n",
       "   2.944169727483536,\n",
       "   2.870636863591787,\n",
       "   2.8095092808709796,\n",
       "   2.7500736764284017,\n",
       "   2.6966936878225196,\n",
       "   2.6454788461909637,\n",
       "   2.6033434169561422,\n",
       "   2.5645077028029037,\n",
       "   2.5311633947270735,\n",
       "   2.508621819253835,\n",
       "   2.4864388946178972,\n",
       "   2.4792629678801563,\n",
       "   2.474614027469362,\n",
       "   2.476031678387233,\n",
       "   2.492304654850151,\n",
       "   2.525874929521235,\n",
       "   2.577107126185231,\n",
       "   2.628885649124259,\n",
       "   2.6809743115458446,\n",
       "   2.7515008686780633,\n",
       "   2.7757452861565604,\n",
       "   2.8962635787301294,\n",
       "   3.022512947786666]}}"
      ]
     },
     "execution_count": 107,
     "metadata": {},
     "output_type": "execute_result"
    }
   ],
   "source": [
    "ngb.evals_result"
   ]
  },
  {
   "cell_type": "markdown",
   "metadata": {},
   "source": [
    "## Evaluate on a test set"
   ]
  },
  {
   "cell_type": "code",
   "execution_count": 108,
   "metadata": {},
   "outputs": [],
   "source": [
    "Y_pred = ngb.predict(X_test)\n",
    "Y_dist = ngb.pred_dist(X_test)"
   ]
  },
  {
   "cell_type": "code",
   "execution_count": 109,
   "metadata": {},
   "outputs": [
    {
     "name": "stderr",
     "output_type": "stream",
     "text": [
      "2020-12-28 22:55:21 INFO     Median Absolute Error = 1.799607169737202\n",
      "2020-12-28 22:55:21 INFO     Mean Absolute Error = 2.177572442000711\n"
     ]
    }
   ],
   "source": [
    "Mae = median_absolute_error(y_test, Y_pred)\n",
    "logger.info(f\"Median Absolute Error = {Mae}\")\n",
    "\n",
    "mea = mean_absolute_error(y_test, Y_pred)\n",
    "logger.info(f\"Mean Absolute Error = {mea}\")"
   ]
  },
  {
   "cell_type": "code",
   "execution_count": 79,
   "metadata": {},
   "outputs": [
    {
     "name": "stderr",
     "output_type": "stream",
     "text": [
      "2020-12-28 22:33:22 INFO     Median Absolute Error = 1.9594667380377295\n",
      "2020-12-28 22:33:22 INFO     Mean Absolute Error = 2.265848379685496\n"
     ]
    }
   ],
   "source": [
    "Mae = median_absolute_error(y_test, Y_pred)\n",
    "logger.info(f\"Median Absolute Error = {Mae}\")\n",
    "\n",
    "mea = mean_absolute_error(y_test, Y_pred)\n",
    "logger.info(f\"Mean Absolute Error = {mea}\")"
   ]
  },
  {
   "cell_type": "code",
   "execution_count": 82,
   "metadata": {},
   "outputs": [
    {
     "data": {
      "text/plain": [
       "Text(336.9714285714286, 0.5, 'Predictions [Hours]')"
      ]
     },
     "execution_count": 82,
     "metadata": {},
     "output_type": "execute_result"
    },
    {
     "data": {
      "image/png": "[encoded data removed]",
      "text/plain": [
       "<Figure size 432x432 with 3 Axes>"
      ]
     },
     "metadata": {
      "needs_background": "light"
     },
     "output_type": "display_data"
    }
   ],
   "source": [
    "samp_low = 0\n",
    "samp_high = 60\n",
    "\n",
    "# a = plt.axes(aspect=\"equal\")\n",
    "sns.jointplot(y_test[(y_test > samp_low) & (y_test < samp_high)], Y_pred[(y_test > samp_low) & (y_test < samp_high)], kind=\"hexbin\", bins=\"log\", xlim=(samp_low,samp_high), ylim=(samp_low, samp_high))\n",
    "# plt.scatter(y_samp, y_pred)\n",
    "plt.xlabel(\"True Values [Hours]\")\n",
    "plt.ylabel(\"Predictions [Hours]\")"
   ]
  },
  {
   "cell_type": "code",
   "execution_count": null,
   "metadata": {},
   "outputs": [],
   "source": []
  }
 ],
 "metadata": {
  "kernelspec": {
   "display_name": "Python 3",
   "language": "python",
   "name": "python3"
  },
  "language_info": {
   "codemirror_mode": {
    "name": "ipython",
    "version": 3
   },
   "file_extension": ".py",
   "mimetype": "text/x-python",
   "name": "python",
   "nbconvert_exporter": "python",
   "pygments_lexer": "ipython3",
   "version": "3.6.10"
  }
 },
 "nbformat": 4,
 "nbformat_minor": 4
}

{
 "cells": [
  {
   "cell_type": "markdown",
   "metadata": {},
   "source": [
    "# Load in Boston housing data set and train NGBoost model"
   ]
  },
  {
   "cell_type": "code",
   "execution_count": 1,
   "metadata": {},
   "outputs": [
    {
     "name": "stdout",
     "output_type": "stream",
     "text": [
      "[iter 0] loss=3.6325 val_loss=0.0000 scale=0.5000 norm=3.3001\n",
      "[iter 100] loss=3.0695 val_loss=0.0000 scale=1.0000 norm=3.7127\n",
      "[iter 200] loss=2.4070 val_loss=0.0000 scale=2.0000 norm=3.9266\n",
      "[iter 300] loss=1.9717 val_loss=0.0000 scale=2.0000 norm=3.0646\n",
      "[iter 400] loss=1.8004 val_loss=0.0000 scale=2.0000 norm=2.7752\n",
      "Test MSE 8.363064542252776\n",
      "Test NLL 3.2037643936784685\n"
     ]
    }
   ],
   "source": [
    "from ngboost import NGBRegressor\n",
    "\n",
    "from sklearn.datasets import load_boston\n",
    "from sklearn.model_selection import train_test_split\n",
    "from sklearn.metrics import mean_squared_error\n",
    "\n",
    "import pandas as pd\n",
    "%matplotlib inline\n",
    "import matplotlib.pyplot as plt\n",
    "import seaborn as sns\n",
    "\n",
    "X, Y = load_boston(True)\n",
    "X_train, X_test, Y_train, Y_test = train_test_split(X, Y, test_size=0.2)\n",
    "\n",
    "ngb = NGBRegressor().fit(X_train, Y_train)\n",
    "Y_preds = ngb.predict(X_test)\n",
    "Y_dists = ngb.pred_dist(X_test)\n",
    "\n",
    "# test Mean Squared Error\n",
    "test_MSE = mean_squared_error(Y_preds, Y_test)\n",
    "print('Test MSE', test_MSE)\n",
    "\n",
    "# test Negative Log Likelihood\n",
    "test_NLL = -Y_dists.logpdf(Y_test.flatten()).mean()\n",
    "print('Test NLL', test_NLL)"
   ]
  },
  {
   "cell_type": "markdown",
   "metadata": {},
   "source": [
    "# Feature importance for each parameter"
   ]
  },
  {
   "cell_type": "code",
   "execution_count": 2,
   "metadata": {
    "scrolled": true
   },
   "outputs": [
    {
     "data": {
      "text/plain": [
       "array([0.06204892, 0.00271903, 0.03039769, 0.00653581, 0.06556052,\n",
       "       0.22765842, 0.07073901, 0.16359776, 0.02429042, 0.06009002,\n",
       "       0.04504398, 0.07386496, 0.16745346])"
      ]
     },
     "execution_count": 2,
     "metadata": {},
     "output_type": "execute_result"
    }
   ],
   "source": [
    "## Feature importance for loc trees\n",
    "feature_importance_loc = ngb.feature_importances_[0]\n",
    "feature_importance_loc"
   ]
  },
  {
   "cell_type": "code",
   "execution_count": 3,
   "metadata": {},
   "outputs": [
    {
     "data": {
      "text/plain": [
       "array([0.05533279, 0.0037352 , 0.03391734, 0.00438272, 0.08631244,\n",
       "       0.21400223, 0.1083932 , 0.11264647, 0.02646989, 0.09258242,\n",
       "       0.02987915, 0.08827671, 0.14406943])"
      ]
     },
     "execution_count": 3,
     "metadata": {},
     "output_type": "execute_result"
    }
   ],
   "source": [
    "## Feature importance for scale trees\n",
    "feature_importance_scale = ngb.feature_importances_[1]\n",
    "feature_importance_scale"
   ]
  },
  {
   "cell_type": "code",
   "execution_count": 4,
   "metadata": {},
   "outputs": [
    {
     "data": {
      "text/plain": [
       "Text(0.5, 1.0, 'scale param')"
      ]
     },
     "execution_count": 4,
     "metadata": {},
     "output_type": "execute_result"
    },
    {
     "data": {
      "image/png": "[encoded data removed]",
      "text/plain": [
       "<Figure size 936x432 with 2 Axes>"
      ]
     },
     "metadata": {
      "needs_background": "light"
     },
     "output_type": "display_data"
    }
   ],
   "source": [
    "df_loc = pd.DataFrame({'feature':load_boston()['feature_names'], \n",
    "                       'importance':feature_importance_loc})\\\n",
    "    .sort_values('importance',ascending=False)\n",
    "df_scale = pd.DataFrame({'feature':load_boston()['feature_names'], \n",
    "                       'importance':feature_importance_scale})\\\n",
    "    .sort_values('importance',ascending=False)\n",
    "\n",
    "fig, (ax1, ax2) = plt.subplots(1, 2, figsize=(13,6))\n",
    "fig.suptitle(\"Feature importance plot for distribution parameters\", fontsize=17)\n",
    "sns.barplot(x='importance',y='feature',ax=ax1,data=df_loc, color=\"skyblue\").set_title('loc param')\n",
    "sns.barplot(x='importance',y='feature',ax=ax2,data=df_scale, color=\"skyblue\").set_title('scale param')"
   ]
  }
 ],
 "metadata": {
  "kernelspec": {
   "display_name": "Python 3",
   "language": "python",
   "name": "python3"
  },
  "language_info": {
   "codemirror_mode": {
    "name": "ipython",
    "version": 3
   },
   "file_extension": ".py",
   "mimetype": "text/x-python",
   "name": "python",
   "nbconvert_exporter": "python",
   "pygments_lexer": "ipython3",
   "version": "3.7.5"
  }
 },
 "nbformat": 4,
 "nbformat_minor": 2
}
